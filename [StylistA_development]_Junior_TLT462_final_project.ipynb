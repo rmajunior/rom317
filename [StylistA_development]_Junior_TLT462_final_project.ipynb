{
  "nbformat": 4,
  "nbformat_minor": 0,
  "metadata": {
    "colab": {
      "name": "[StylistA development] Junior TLT462 final project.ipynb",
      "provenance": [],
      "collapsed_sections": [],
      "include_colab_link": true
    },
    "kernelspec": {
      "name": "python3",
      "display_name": "Python 3"
    }
  },
  "cells": [
    {
      "cell_type": "markdown",
      "metadata": {
        "id": "view-in-github",
        "colab_type": "text"
      },
      "source": [
        "<a href=\"https://colab.research.google.com/github/rmajunior/rom317/blob/master/%5BStylistA_development%5D_Junior_TLT462_final_project.ipynb\" target=\"_parent\"><img src=\"https://colab.research.google.com/assets/colab-badge.svg\" alt=\"Open In Colab\"/></a>"
      ]
    },
    {
      "cell_type": "markdown",
      "metadata": {
        "id": "XOpriuaclHQx"
      },
      "source": [
        "# 1. Write-up\n"
      ]
    },
    {
      "cell_type": "markdown",
      "metadata": {
        "id": "_E_gRvFokY4J"
      },
      "source": [
        "\n",
        "<center> **StylistA: a Deep Learning Development Approach** </center>\n",
        "<br>\n",
        "<center> *Robson Martins de Araujo Junior* </center>\n",
        "<br>\n",
        "<center>   TLT 462 – Dr. Scott Garrigan </center>\n",
        "<br>\n",
        " <center> Lehigh University College of Education </center>\n",
        "\n",
        "  \n",
        "  ## OVERVIEW\n",
        "\n",
        "Unlike existing grammar-correction driven applications such as Grammarly or Microsoft Office’s colored wavy underlines; my agent will focus on patterns and trends of textual samples. By training StylistA to understand patterns such as amount of words in a sentence, amount of (and type of) punctuation used, exaggerated use of certain parts of the speech (i.e., adjectives, adverbs, interjections), it will possible to output variations in stylistics (contrasted to academic manuscript exemplars), and assist students to improve their writing style by visually highlighting areas of the text that need to be improved.\n",
        "\n",
        "Selecting the most suitable model for a Machine Learning (ML) project is crucial. Since StylistA input is natural language, and its complexity layers, a more sophisticated method would be required to accomplish its goals of learning from a students' writing samples and being able to output a diagnostics report regarding its stylistics. Thus, StylistA will be run by a deep learning (DL) model; DL is a branch of ML where the model attempts to learn autonomously from input data received.\n",
        "\n",
        "The choice for not automatically correcting one’s textual input is intentional. StylistA is meant to be an education tool, to support students, teachers, and whoever seeks self-improvement and understanding of their own writing practices. If you are looking for an automatic, and oftentimes mindless, self-correction tool, you can stop reading this paper here. \n",
        "\n",
        "## METHOD\n",
        "\n",
        "I decided to conduct the  *[Plan B: TensorFlow (TF) and Keras](https://drive.google.com/open?id=1-v7RltnlpDyiyObd5d85aYfOuDxO1gks)* of my roadmap using Google Colaboratory (colab), a cloud programming notebook. With colab, data are easily structured, feed, analyzed, fit into models, optimized, and deployerd using TF and keras.  Recurrent Neural Networks (RNNs), a deep learning model, are known for being effective handling sequential data, ordered numbers, characters, and words. In addition, after the model is trained with a corpus (i.e., textual sample data files). Because it is a deep learning model, is able to create unique textual pieces based on its learning mechanisms within the hidden layers of its neural network.  \n",
        "\n",
        "RNN/LSTM is short for Recurrent Neural Networks that use Long Short Term Memory, this model allows you \"to train character-level language models based on multi-layer LSTM [nodes]\" (Karpathy, 2015). The most effective and reffered model for character handling is the one developed by Stanford Ph.D. student Andrej Karpathy, and shared in his Github ([@karpathy](https://github.com/karpathy/char-rnn)). LSTM addresses RNNs caveats. Hence, it is a potential model to handle StylistA data input.\n",
        "\n",
        " ### Searching for THE model\n",
        "\n",
        "I started by identifying the best model for the project I had proposed. My prospective dataframe will derive from [Oxford Dictionaries API ](developer.oxforddictionaries.com) , because it is a comprehensive and well-known dictionary worldwide. Then I searched for freely available data sets online (e.g., [Kaggle](https://www.kaggle.com/datasets)) using the following keywords: `dictionary`, `language`, `linguistics`. I found some interesting linguistic datasets, but were not within the scope of StylistA's needs (e.g., some were partial datasets, others were informal or comical language). \n",
        "\n",
        " ### Preparing the data\n",
        "\n",
        "The data used will be composed of many application letters I have written since 2016. Attached are the two most recent samples  [2018-2019](https://drive.google.com/file/d/13SvR0YhAbAEBeZmRk78H8O-_rZ3RIUoM/view?usp=sharing) and [2019-2020](https://drive.google.com/file/d/13SvR0YhAbAEBeZmRk78H8O-_rZ3RIUoM/view?usp=sharing), already edited to serve as corpus, saved as .txt files. This data preparing process has been invaluable, for me, because I can identify the linguistic and stylistic patterns as I clean and organize the sentences in the new file format.\n",
        "\n",
        " ### Gathering the necessary self-instruction material\n",
        "\n",
        "\n",
        "\n",
        "## OUTCOMES\n",
        "\n",
        "* **[Recurrent Neural Networks & Long Short Term Memory Network](https://drive.google.com/open?id=1ClPX8LqAC_KCohtUFL2_7IBfPT-pS6rY)**\n",
        "\n",
        "* [RNN - LSTM with Keras and Scikit-learn.ipynb](https://colab.research.google.com/drive/1Qx08C4UJQ_oht2IuMiv_E5yYfunypWTH) - Tensorflow sequential model with one and two neural network layers with Adam optimization.  \n",
        "\n",
        "* [RNN Implementation using NumPy Sequence input, Char-level, Batch training, Python 3](https://colab.research.google.com/drive/1MN4crCPQcMnsUAwVawQXgeLEAhfCKwVG)\n",
        "Source: @JY-Yoon\n",
        "Original code: @karpathy- \n",
        "\n",
        "* [[Debug] This is a batched LSTM forward and backward pass***](https://drive.google.com/open?id=1UGPh_-r3Rj48YMbuBmjsD9H6xwNHFopd) - A draft / debug file to practice the adjustments needed to convert Python 2  into Python 3 codes.\n",
        "\n",
        "**Note:** I could foresee two programming errors from two youtube instructors! We will go through these in the presentation. \n",
        "\n",
        "<center>![levelUp](https://render.bitstrips.com/v2/cpanel/8c15569e-920d-40ca-a005-52d026c9bde5-6e797bc6-7564-4366-8671-8f7b2b27407f-v1.png?transparent=1&palette=1&width=150)</center>\n",
        "\n",
        "---\n",
        "\n",
        "## REFERENCES\n",
        "\n",
        "Karpathy, A. (2015). The Unreasonable Effectiveness of Recurrent Neural Networks\n",
        "http://karpathy.github.io/2015/05/21/rnn-effectiveness/\n",
        "Published on May 21, 2015\n",
        "\n",
        "## WEBLIOGRAPHY\n",
        "\n",
        "1. What are Recurrent Neural Networks (RNN) and Long Short Term Memory Networks (LSTM) ?\n",
        "The Semicolon\n",
        "https://youtu.be/S0XFd0VMFss\n",
        "Published on Jan 30, 2018\n",
        "\n",
        "2. Recurrent Neural Networks (LSTM / RNN) Implementation with Keras - Python\n",
        "The Semicolon\n",
        "https://youtu.be/iMIWee_PXl8\n",
        "Published on Mar 19, 2018\n",
        "\n",
        "3. [Deep Learning with Python, TensorFlow, and Keras tutorial](https://pythonprogramming.net/introduction-deep-learning-python-tensorflow-keras)\n",
        "[link text](https://)\n",
        "\n",
        "4. Recurrent Neural Networks (RNNs)  - Deep Learning w/ Python, TensorFlow & Keras [[Part 7]](https://youtu.be/BSpXCRTOLJA) .From the Youtube Channel **sentdex** series: [Deep Learning basics with Python, TensorFlow and Keras](https://www.youtube.com/watch?v=wQ8BIBpya2k&list=PLQVvvaa0QuDfhTox0AjmQ6tvTgMBZBEXN)\n",
        "---"
      ]
    },
    {
      "cell_type": "markdown",
      "metadata": {
        "id": "RNCxeuKalP6g"
      },
      "source": [
        "# 2. The Recurrent Neural Network (RNN) with Long Short Term Memory (LSTM) Model "
      ]
    },
    {
      "cell_type": "markdown",
      "metadata": {
        "id": "8OgyF2COlwN5"
      },
      "source": [
        "## 2.1 Setting up the RNN/LSTM model"
      ]
    },
    {
      "cell_type": "code",
      "metadata": {
        "id": "TzwHMUEQl8_g",
        "colab": {
          "base_uri": "https://localhost:8080/",
          "height": 34
        },
        "outputId": "20562579-c203-4e07-bd0a-8b92f9d8b339"
      },
      "source": [
        "from keras.models import Sequential\n",
        "from keras.layers import Dense\n",
        "from keras.layers import LSTM\n",
        "from sklearn.model_selection import train_test_split\n",
        "import numpy as np\n",
        "import matplotlib.pyplot as plt"
      ],
      "execution_count": null,
      "outputs": [
        {
          "output_type": "stream",
          "text": [
            "Using TensorFlow backend.\n"
          ],
          "name": "stderr"
        }
      ]
    },
    {
      "cell_type": "markdown",
      "metadata": {
        "id": "X8RHrtJiw613"
      },
      "source": [
        "Notice that we are using keras and scikit-learn! 🧐"
      ]
    },
    {
      "cell_type": "markdown",
      "metadata": {
        "id": "siQ1YNshmFbg"
      },
      "source": [
        "## 2.2 Data Preparation"
      ]
    },
    {
      "cell_type": "markdown",
      "metadata": {
        "id": "RcA8Zpbpmi_B"
      },
      "source": [
        "---\n",
        "### This is the NON-normalized data  *(Not to be run! Just illustration purposes)*\n",
        "\n",
        "```\n",
        "data = [[[i+j] for i in range(5)] for j in range(100)]\n",
        "target = [(i+5) for i in range(100)]\n",
        "```\n",
        "\n",
        ">Although this is not going to produce any significant outcome, this piece of code has played a major role in my learning process! Thanks to it, I was able to learn **the importance of normalizing the data** before fitting it into the selected machine learning model.\n",
        "\n",
        "---"
      ]
    },
    {
      "cell_type": "markdown",
      "metadata": {
        "id": "Hu_18bswos3o"
      },
      "source": [
        "## 2.2.1 Data NORMALIZATION\n",
        "\n",
        "<center> \n",
        "    \n",
        "#####\"Normalization is the process of organizing data in a database.\" (Microsoft Support, 2017)\n",
        "\n",
        "#####\"When we do not normalize the data, it makes the gradient very high. Thus, making it difficult for the model to learn anything!\"\" (The semicolon, 2018)</center><br>\n",
        "\n",
        "For this ML model practice example, our dataset has 100 rows (vectors) only composed by integers.\n",
        "Therefore, in order to **simplify** this dataframe, we can divide each entry (each row) by 100, which will **evenly reduce** the numbers making this dataframe easier for the algorithym to process.\n",
        "\n",
        "><br> **Note:** It should take place early on, in the data preparation stage."
      ]
    },
    {
      "cell_type": "code",
      "metadata": {
        "id": "5MJd5nQ8mHuA"
      },
      "source": [
        "## NOW THE REAL DEAL\n",
        "Data = [[[(i+j)/100] for i in range(5)] for j in range(100)]\n",
        "target = [(i+5)/100 for i in range(100)]"
      ],
      "execution_count": null,
      "outputs": []
    },
    {
      "cell_type": "markdown",
      "metadata": {
        "id": "809cNlpBncEY"
      },
      "source": [
        ">**Note:** When dealing with text and images datasets, the vector sizes in the previous line of code may change.  \n",
        "                   In this example, 5 is a sufficient number to use; we will call five sequential numbers, and the machine should predict the following number (target), that is, the **outcome** of this algorithm.                \n",
        "\n",
        "---\n",
        "\n"
      ]
    },
    {
      "cell_type": "markdown",
      "metadata": {
        "id": "EgRggY2pxxEH"
      },
      "source": [
        "By typing the name of the variable and runing the line of code, we are requesting to visualize the its value/format/shape.\n",
        "\n",
        "In our case:\n",
        "\n",
        "*   ```data```  >> will return a textual representation of our dataframe.\n",
        "*   ```target``` >> will return the expected outcome, that is, the following number after a sequence of five consecutive numbers.\n",
        "\n"
      ]
    },
    {
      "cell_type": "markdown",
      "metadata": {
        "id": "UObYXIuz1BfG"
      },
      "source": [
        "## 2.2.2 Let's convert these to numpy arrays"
      ]
    },
    {
      "cell_type": "code",
      "metadata": {
        "id": "qywd5vz51LdO"
      },
      "source": [
        "data = np.array(Data, dtype=float)\n",
        "target = np.array(target,dtype=float)"
      ],
      "execution_count": null,
      "outputs": []
    },
    {
      "cell_type": "markdown",
      "metadata": {
        "id": "LfGp9Bdz1QWP"
      },
      "source": [
        ">### We will be using these shapes as parameters when we implement LSTMs."
      ]
    },
    {
      "cell_type": "code",
      "metadata": {
        "id": "tdZ0dxUV1U3W",
        "colab": {
          "base_uri": "https://localhost:8080/",
          "height": 34
        },
        "outputId": "e86b9a8a-c299-4229-be82-0b84dff29f77"
      },
      "source": [
        "data.shape"
      ],
      "execution_count": null,
      "outputs": [
        {
          "output_type": "execute_result",
          "data": {
            "text/plain": [
              "(100, 5, 1)"
            ]
          },
          "metadata": {
            "tags": []
          },
          "execution_count": 4
        }
      ]
    },
    {
      "cell_type": "code",
      "metadata": {
        "id": "MTC-L84C1Wdm",
        "colab": {
          "base_uri": "https://localhost:8080/",
          "height": 34
        },
        "outputId": "005ebebc-8d7c-4a5c-b4dd-959ae96bffd8"
      },
      "source": [
        "target.shape"
      ],
      "execution_count": null,
      "outputs": [
        {
          "output_type": "execute_result",
          "data": {
            "text/plain": [
              "(100,)"
            ]
          },
          "metadata": {
            "tags": []
          },
          "execution_count": 5
        }
      ]
    },
    {
      "cell_type": "markdown",
      "metadata": {
        "id": "yLb6s5hM1ob2"
      },
      "source": [
        "## 2.2.3 Splitting the data into Test and Train\n",
        "This is the last step of data preparation\n"
      ]
    },
    {
      "cell_type": "code",
      "metadata": {
        "id": "9nEkqvcn1wqe"
      },
      "source": [
        "x_train, x_test, y_train, y_test = train_test_split(data, target, test_size = 0.2, random_state = 1)"
      ],
      "execution_count": null,
      "outputs": []
    },
    {
      "cell_type": "markdown",
      "metadata": {
        "id": "MCOc_0AAJ4QT"
      },
      "source": [
        "---\n",
        "## 2.3 RNN model\n",
        "\n",
        "Implementing LSTM, and watching it learn"
      ]
    },
    {
      "cell_type": "code",
      "metadata": {
        "id": "YOCK8VDfJ2-M"
      },
      "source": [
        "model=Sequential()"
      ],
      "execution_count": null,
      "outputs": []
    },
    {
      "cell_type": "markdown",
      "metadata": {
        "id": "UvDbA5WlPLXb"
      },
      "source": [
        "The `Sequential` model is a linear stack of layers.\n",
        "\n",
        "![Stacked LSTM for sequence classification](https://keras.io/img/regular_stacked_lstm.png)\n",
        "\n",
        "Source: https://keras.io/getting-started/sequential-model-guide/\n"
      ]
    },
    {
      "cell_type": "code",
      "metadata": {
        "id": "7yzWMHuxOb8E",
        "colab": {
          "base_uri": "https://localhost:8080/",
          "height": 88
        },
        "outputId": "be19f60a-faa4-4be3-add5-8381175e702a"
      },
      "source": [
        "model.add(LSTM((1), batch_input_shape=(None,5,1), return_sequences=False))"
      ],
      "execution_count": null,
      "outputs": [
        {
          "output_type": "stream",
          "text": [
            "WARNING:tensorflow:From /usr/local/lib/python3.6/dist-packages/tensorflow/python/framework/op_def_library.py:263: colocate_with (from tensorflow.python.framework.ops) is deprecated and will be removed in a future version.\n",
            "Instructions for updating:\n",
            "Colocations handled automatically by placer.\n"
          ],
          "name": "stdout"
        }
      ]
    },
    {
      "cell_type": "markdown",
      "metadata": {
        "id": "AdbbTM6wLD1z"
      },
      "source": [
        "To add LSTM later, we need to specify some parameters. \n",
        "\n",
        "1.   **Input size** ```LSTM(1)```\n",
        ">This value is 1, because we want ONE output.\n",
        "2.   **Batch input shape** ```batch_input_shape=(a,b,c)```\n",
        ">Describes the output of our data. As follows: number of inputs (a), length of input sequences (b), and length of each vector.\n",
        "\n",
        ">>\"According to [Keras documentation on Sequential models](https://keras.io/getting-started/sequential-model-guide/), this `batch` argument is useful for ***stateful*** RNNs. A *stateful recurrent model* is one for which the internal states (memories) obtained after processing a batch of samples are reused as initial states for the samples of the next batch. This allows to <u>process longer sequences</u> while keeping computational complexity manageable.\" (keras.io)\n",
        "\n",
        ">**Note:** If we do not know the number of inputs in our data, we can replace the value with **None**\n",
        "\n",
        "3. **return_sequences=_boolean_** \n",
        "> Determines whether we want output to be printed after every node. If set to **true**, it would return output after every node, which would cause an error in our code. Setting it to **False** will return only one output after the end of the last node.\n",
        "\n",
        ">**Note:** These variables are <u>case sensitive</u>!  Therefore, they must be entered as **N**one; **T**rue or **F**alse."
      ]
    },
    {
      "cell_type": "code",
      "metadata": {
        "id": "ZAGEKa6UOgBb"
      },
      "source": [
        "model.compile(loss='mean_absolute_error', optimizer='adam', metrics=['accuracy'])"
      ],
      "execution_count": null,
      "outputs": []
    },
    {
      "cell_type": "markdown",
      "metadata": {
        "id": "Uw7yRFI3OotL"
      },
      "source": [
        "**Compile** is where we set up the learning process. It usually takes three arguments: **loss**, **optimizer**, and **metrics**.\n",
        "\n",
        "For now, the parameters are the same as used in the tutorials I followed. Changing and experimenting will be a delightful summer experience! 😎\n",
        "\n",
        "The aforementioned Keras documentation is loaded with many examples and brief explanations."
      ]
    },
    {
      "cell_type": "code",
      "metadata": {
        "id": "gnoz0ca2Oo_C",
        "colab": {
          "base_uri": "https://localhost:8080/",
          "height": 170
        },
        "outputId": "52f04122-11d5-40fd-f4b4-00577d4265b5"
      },
      "source": [
        "model.summary()"
      ],
      "execution_count": null,
      "outputs": [
        {
          "output_type": "stream",
          "text": [
            "_________________________________________________________________\n",
            "Layer (type)                 Output Shape              Param #   \n",
            "=================================================================\n",
            "lstm_1 (LSTM)                (None, 1)                 12        \n",
            "=================================================================\n",
            "Total params: 12\n",
            "Trainable params: 12\n",
            "Non-trainable params: 0\n",
            "_________________________________________________________________\n"
          ],
          "name": "stdout"
        }
      ]
    },
    {
      "cell_type": "markdown",
      "metadata": {
        "id": "83rptDYbOpjC"
      },
      "source": [
        "**model.summary()** allows up to verify the <u>shape</u> and the <u>number of parameters</u>\n",
        "\n",
        ">**Note:** This is a simple instance of RNN/LSTM with only 1 layer, that was meant to execute a rather simple prediction request. However, this material and its video tutorial have been great assets for improving my skillset to develop StylistA. "
      ]
    },
    {
      "cell_type": "markdown",
      "metadata": {
        "id": "0MB6DNfvZn5a"
      },
      "source": [
        "## 2.4 Fitting the model on the training data"
      ]
    },
    {
      "cell_type": "code",
      "metadata": {
        "id": "AQdbpSFXZxbJ",
        "colab": {
          "base_uri": "https://localhost:8080/",
          "height": 1805
        },
        "outputId": "12319f45-49a5-4b87-f1f5-75c42ba93012"
      },
      "source": [
        "history = model.fit(x_train, y_train, epochs=100, validation_data=(x_test, y_test))"
      ],
      "execution_count": null,
      "outputs": [
        {
          "output_type": "stream",
          "text": [
            "WARNING:tensorflow:From /usr/local/lib/python3.6/dist-packages/tensorflow/python/ops/math_ops.py:3066: to_int32 (from tensorflow.python.ops.math_ops) is deprecated and will be removed in a future version.\n",
            "Instructions for updating:\n",
            "Use tf.cast instead.\n",
            "Train on 80 samples, validate on 20 samples\n",
            "Epoch 1/50\n",
            "80/80 [==============================] - 1s 14ms/step - loss: 0.3314 - acc: 0.0000e+00 - val_loss: 0.2436 - val_acc: 0.0000e+00\n",
            "Epoch 2/50\n",
            "80/80 [==============================] - 0s 249us/step - loss: 0.3290 - acc: 0.0000e+00 - val_loss: 0.2409 - val_acc: 0.0000e+00\n",
            "Epoch 3/50\n",
            "80/80 [==============================] - 0s 224us/step - loss: 0.3264 - acc: 0.0000e+00 - val_loss: 0.2381 - val_acc: 0.0000e+00\n",
            "Epoch 4/50\n",
            "80/80 [==============================] - 0s 225us/step - loss: 0.3238 - acc: 0.0000e+00 - val_loss: 0.2353 - val_acc: 0.0000e+00\n",
            "Epoch 5/50\n",
            "80/80 [==============================] - 0s 213us/step - loss: 0.3212 - acc: 0.0000e+00 - val_loss: 0.2325 - val_acc: 0.0000e+00\n",
            "Epoch 6/50\n",
            "80/80 [==============================] - 0s 208us/step - loss: 0.3185 - acc: 0.0000e+00 - val_loss: 0.2297 - val_acc: 0.0000e+00\n",
            "Epoch 7/50\n",
            "80/80 [==============================] - 0s 226us/step - loss: 0.3159 - acc: 0.0000e+00 - val_loss: 0.2268 - val_acc: 0.0000e+00\n",
            "Epoch 8/50\n",
            "80/80 [==============================] - 0s 209us/step - loss: 0.3132 - acc: 0.0000e+00 - val_loss: 0.2240 - val_acc: 0.0000e+00\n",
            "Epoch 9/50\n",
            "80/80 [==============================] - 0s 211us/step - loss: 0.3105 - acc: 0.0000e+00 - val_loss: 0.2211 - val_acc: 0.0000e+00\n",
            "Epoch 10/50\n",
            "80/80 [==============================] - 0s 185us/step - loss: 0.3079 - acc: 0.0000e+00 - val_loss: 0.2183 - val_acc: 0.0000e+00\n",
            "Epoch 11/50\n",
            "80/80 [==============================] - 0s 205us/step - loss: 0.3053 - acc: 0.0000e+00 - val_loss: 0.2156 - val_acc: 0.0000e+00\n",
            "Epoch 12/50\n",
            "80/80 [==============================] - 0s 213us/step - loss: 0.3029 - acc: 0.0000e+00 - val_loss: 0.2132 - val_acc: 0.0000e+00\n",
            "Epoch 13/50\n",
            "80/80 [==============================] - 0s 233us/step - loss: 0.3006 - acc: 0.0000e+00 - val_loss: 0.2108 - val_acc: 0.0000e+00\n",
            "Epoch 14/50\n",
            "80/80 [==============================] - 0s 194us/step - loss: 0.2985 - acc: 0.0000e+00 - val_loss: 0.2085 - val_acc: 0.0000e+00\n",
            "Epoch 15/50\n",
            "80/80 [==============================] - 0s 203us/step - loss: 0.2966 - acc: 0.0000e+00 - val_loss: 0.2063 - val_acc: 0.0000e+00\n",
            "Epoch 16/50\n",
            "80/80 [==============================] - 0s 214us/step - loss: 0.2948 - acc: 0.0000e+00 - val_loss: 0.2042 - val_acc: 0.0000e+00\n",
            "Epoch 17/50\n",
            "80/80 [==============================] - 0s 217us/step - loss: 0.2930 - acc: 0.0000e+00 - val_loss: 0.2024 - val_acc: 0.0000e+00\n",
            "Epoch 18/50\n",
            "80/80 [==============================] - 0s 206us/step - loss: 0.2914 - acc: 0.0000e+00 - val_loss: 0.2005 - val_acc: 0.0000e+00\n",
            "Epoch 19/50\n",
            "80/80 [==============================] - 0s 243us/step - loss: 0.2897 - acc: 0.0000e+00 - val_loss: 0.1988 - val_acc: 0.0000e+00\n",
            "Epoch 20/50\n",
            "80/80 [==============================] - 0s 240us/step - loss: 0.2882 - acc: 0.0000e+00 - val_loss: 0.1972 - val_acc: 0.0000e+00\n",
            "Epoch 21/50\n",
            "80/80 [==============================] - 0s 211us/step - loss: 0.2866 - acc: 0.0000e+00 - val_loss: 0.1957 - val_acc: 0.0000e+00\n",
            "Epoch 22/50\n",
            "80/80 [==============================] - 0s 207us/step - loss: 0.2850 - acc: 0.0000e+00 - val_loss: 0.1944 - val_acc: 0.0000e+00\n",
            "Epoch 23/50\n",
            "80/80 [==============================] - 0s 203us/step - loss: 0.2835 - acc: 0.0000e+00 - val_loss: 0.1931 - val_acc: 0.0000e+00\n",
            "Epoch 24/50\n",
            "80/80 [==============================] - 0s 247us/step - loss: 0.2820 - acc: 0.0000e+00 - val_loss: 0.1918 - val_acc: 0.0000e+00\n",
            "Epoch 25/50\n",
            "80/80 [==============================] - 0s 242us/step - loss: 0.2806 - acc: 0.0000e+00 - val_loss: 0.1906 - val_acc: 0.0000e+00\n",
            "Epoch 26/50\n",
            "80/80 [==============================] - 0s 292us/step - loss: 0.2791 - acc: 0.0000e+00 - val_loss: 0.1895 - val_acc: 0.0000e+00\n",
            "Epoch 27/50\n",
            "80/80 [==============================] - 0s 279us/step - loss: 0.2776 - acc: 0.0000e+00 - val_loss: 0.1884 - val_acc: 0.0000e+00\n",
            "Epoch 28/50\n",
            "80/80 [==============================] - 0s 236us/step - loss: 0.2762 - acc: 0.0000e+00 - val_loss: 0.1874 - val_acc: 0.0000e+00\n",
            "Epoch 29/50\n",
            "80/80 [==============================] - 0s 210us/step - loss: 0.2747 - acc: 0.0000e+00 - val_loss: 0.1863 - val_acc: 0.0000e+00\n",
            "Epoch 30/50\n",
            "80/80 [==============================] - 0s 234us/step - loss: 0.2733 - acc: 0.0000e+00 - val_loss: 0.1852 - val_acc: 0.0000e+00\n",
            "Epoch 31/50\n",
            "80/80 [==============================] - 0s 224us/step - loss: 0.2720 - acc: 0.0000e+00 - val_loss: 0.1842 - val_acc: 0.0000e+00\n",
            "Epoch 32/50\n",
            "80/80 [==============================] - 0s 219us/step - loss: 0.2706 - acc: 0.0000e+00 - val_loss: 0.1831 - val_acc: 0.0000e+00\n",
            "Epoch 33/50\n",
            "80/80 [==============================] - 0s 221us/step - loss: 0.2693 - acc: 0.0000e+00 - val_loss: 0.1820 - val_acc: 0.0000e+00\n",
            "Epoch 34/50\n",
            "80/80 [==============================] - 0s 209us/step - loss: 0.2680 - acc: 0.0000e+00 - val_loss: 0.1810 - val_acc: 0.0000e+00\n",
            "Epoch 35/50\n",
            "80/80 [==============================] - 0s 219us/step - loss: 0.2667 - acc: 0.0000e+00 - val_loss: 0.1800 - val_acc: 0.0000e+00\n",
            "Epoch 36/50\n",
            "80/80 [==============================] - 0s 314us/step - loss: 0.2654 - acc: 0.0000e+00 - val_loss: 0.1791 - val_acc: 0.0000e+00\n",
            "Epoch 37/50\n",
            "80/80 [==============================] - 0s 219us/step - loss: 0.2641 - acc: 0.0000e+00 - val_loss: 0.1782 - val_acc: 0.0000e+00\n",
            "Epoch 38/50\n",
            "80/80 [==============================] - 0s 246us/step - loss: 0.2628 - acc: 0.0000e+00 - val_loss: 0.1773 - val_acc: 0.0000e+00\n",
            "Epoch 39/50\n",
            "80/80 [==============================] - 0s 225us/step - loss: 0.2616 - acc: 0.0000e+00 - val_loss: 0.1764 - val_acc: 0.0000e+00\n",
            "Epoch 40/50\n",
            "80/80 [==============================] - 0s 231us/step - loss: 0.2603 - acc: 0.0000e+00 - val_loss: 0.1755 - val_acc: 0.0000e+00\n",
            "Epoch 41/50\n",
            "80/80 [==============================] - 0s 218us/step - loss: 0.2591 - acc: 0.0000e+00 - val_loss: 0.1746 - val_acc: 0.0000e+00\n",
            "Epoch 42/50\n",
            "80/80 [==============================] - 0s 201us/step - loss: 0.2578 - acc: 0.0000e+00 - val_loss: 0.1737 - val_acc: 0.0000e+00\n",
            "Epoch 43/50\n",
            "80/80 [==============================] - 0s 263us/step - loss: 0.2566 - acc: 0.0000e+00 - val_loss: 0.1728 - val_acc: 0.0000e+00\n",
            "Epoch 44/50\n",
            "80/80 [==============================] - 0s 237us/step - loss: 0.2554 - acc: 0.0000e+00 - val_loss: 0.1719 - val_acc: 0.0000e+00\n",
            "Epoch 45/50\n",
            "80/80 [==============================] - 0s 205us/step - loss: 0.2542 - acc: 0.0000e+00 - val_loss: 0.1710 - val_acc: 0.0000e+00\n",
            "Epoch 46/50\n",
            "80/80 [==============================] - 0s 230us/step - loss: 0.2530 - acc: 0.0000e+00 - val_loss: 0.1701 - val_acc: 0.0000e+00\n",
            "Epoch 47/50\n",
            "80/80 [==============================] - 0s 271us/step - loss: 0.2518 - acc: 0.0000e+00 - val_loss: 0.1692 - val_acc: 0.0000e+00\n",
            "Epoch 48/50\n",
            "80/80 [==============================] - 0s 266us/step - loss: 0.2506 - acc: 0.0000e+00 - val_loss: 0.1682 - val_acc: 0.0000e+00\n",
            "Epoch 49/50\n",
            "80/80 [==============================] - 0s 220us/step - loss: 0.2494 - acc: 0.0000e+00 - val_loss: 0.1673 - val_acc: 0.0000e+00\n",
            "Epoch 50/50\n",
            "80/80 [==============================] - 0s 229us/step - loss: 0.2483 - acc: 0.0000e+00 - val_loss: 0.1664 - val_acc: 0.0000e+00\n"
          ],
          "name": "stdout"
        }
      ]
    },
    {
      "cell_type": "markdown",
      "metadata": {
        "id": "ddvCD4yAZ6LC"
      },
      "source": [
        "###![Hmmmm](https://render.bitstrips.com/v2/cpanel/e7923ac0-cf49-45c8-8414-0904956037cb-6e797bc6-7564-4366-8671-8f7b2b27407f-v1.png?transparent=1&palette=1&width=100) In order to make this amazing process more accessible to a broader audience, let us plot this output!<br><br>\n",
        "Then, we will be able to judge whether the model is learning, and to adjust parameters to obtain the most optimal results. <br><br>\n",
        ">**REMINDER:** this iteration had **epochs=50**, which means the machine went through the **x** and **y** data.  We usually start small to evaluate the learning rate without spending much time and computing process. \n",
        "\n",
        "\n",
        "After plotting and interpreting the visual representation of the outcome, we are encouraged to <u>increase the epochs to find</u> its **most optimal** value.  (see Recap section to read more about finding the best parameters for our model)\n",
        "<center>\n",
        "    \n",
        "![alt text](https://render.bitstrips.com/v2/cpanel/55f5faaa-bbee-4e30-bb67-094748197f8f-6e797bc6-7564-4366-8671-8f7b2b27407f-v1.png?transparent=1&palette=1&width=150)\n"
      ]
    },
    {
      "cell_type": "markdown",
      "metadata": {
        "id": "7POjVsfnZXgB"
      },
      "source": [
        "## 2.5 Checking model efficiency (i.e., is it learning well?)"
      ]
    },
    {
      "cell_type": "code",
      "metadata": {
        "id": "gceFZLfAdCRZ"
      },
      "source": [
        "results = model.predict(x_test)"
      ],
      "execution_count": null,
      "outputs": []
    },
    {
      "cell_type": "code",
      "metadata": {
        "id": "7fsCi9gfc4EK",
        "colab": {
          "base_uri": "https://localhost:8080/",
          "height": 269
        },
        "outputId": "c8e5d73f-e886-470e-8456-7037e12dd27d"
      },
      "source": [
        "plt.scatter(range(20), results, c='r')\n",
        "plt.scatter(range(20), y_test, c='b')\n",
        "plt.show()\n",
        "\n",
        "#Where <c='r'> means color = red\n",
        "#['r', 'g', 'b', 'k', 'y', 'm', 'c'] stand for red, green, blue, black, etc."
      ],
      "execution_count": null,
      "outputs": [
        {
          "output_type": "display_data",
          "data": {
            "image/png": "[encoded data removed]",
            "text/plain": [
              "<Figure size 432x288 with 1 Axes>"
            ]
          },
          "metadata": {
            "tags": []
          }
        }
      ]
    },
    {
      "cell_type": "markdown",
      "metadata": {
        "id": "nkg7JFp_eAXZ"
      },
      "source": [
        "### ![thumbsUp](https://render.bitstrips.com/v2/cpanel/12f3a5e1-c85f-49cd-94f4-6dce9cb18ef1-6e797bc6-7564-4366-8671-8f7b2b27407f-v1.png?transparent=1&palette=1&width=100) The model is learning well! <br><br>\n",
        "\n",
        " <font color=\"blue\">**Blue dots**</font> represent 20 prediction attempts the model made. <font color=\"red\">**Red dots**</font> are the actual prediction output. Thus, **the closer** red  dots are to blue dots, **the more accurate** the prediction has been. \n",
        " \n",
        " "
      ]
    },
    {
      "cell_type": "markdown",
      "metadata": {
        "id": "RO3cczVohwk6"
      },
      "source": [
        "## 2.6 Tunning the model\n",
        "\n",
        "### Remember we used only 50 epochs in our first run? Let us analyze how optimal it was running 50 times."
      ]
    },
    {
      "cell_type": "code",
      "metadata": {
        "id": "MB0fhv4RiTrx",
        "colab": {
          "base_uri": "https://localhost:8080/",
          "height": 286
        },
        "outputId": "b61213f4-0bbd-4bd7-b0df-4d98394f205d"
      },
      "source": [
        "plt.plot(history.history['loss'])"
      ],
      "execution_count": null,
      "outputs": [
        {
          "output_type": "execute_result",
          "data": {
            "text/plain": [
              "[<matplotlib.lines.Line2D at 0x7f043593d828>]"
            ]
          },
          "metadata": {
            "tags": []
          },
          "execution_count": 16
        },
        {
          "output_type": "display_data",
          "data": {
            "image/png": "[encoded data removed]",
            "text/plain": [
              "<Figure size 432x288 with 1 Axes>"
            ]
          },
          "metadata": {
            "tags": []
          }
        }
      ]
    },
    {
      "cell_type": "markdown",
      "metadata": {
        "id": "yGIM9OAAifNY"
      },
      "source": [
        "### The plot above shows the rate of loss (y) over time/epochs (x).  \n",
        "![sliding](https://render.bitstrips.com/v2/cpanel/9e3e23da-040b-4664-a782-65f9a743b3f4-6e797bc6-7564-4366-8671-8f7b2b27407f-v1.png?transparent=1&palette=1&width=150)\n",
        "\n",
        "By the time the model ran the last iteration (i.e., epoch number 50), it had a decreasing tendency an angle greater than 0  and smaller than 90.\n",
        "\n",
        "It means we can use a larger number of epochs to improve our learning rate!  As long as the loss is decreasing, we can continue increasing epochs. \n",
        "\n",
        "Once the plot shows a more stagnate tendency (i.e., curve is becoming a parallel line to the x axis), it means the machine will not learn much more. In addition, raising the epoch value is not computationally cost-efficient from this point forward.\n",
        "\n",
        "\n",
        "It is time to locate the most optimal epoch value in the loss plot. \n",
        "\n",
        "\n"
      ]
    },
    {
      "cell_type": "markdown",
      "metadata": {
        "id": "bxsSvfsn8cvD"
      },
      "source": [
        "## 2.6.1 Here is an example from another iteration I ran:\n",
        "\n",
        "Random sequence=20; Epochs = 300\n",
        "\n",
        "\n",
        "\n",
        "```\n",
        "x_train, x_test, y_train, y_test = train_test_split(data, target, test_size = 0.2, random_state = 20)\n",
        "\n",
        "history = model.fit(x_train, y_train, epochs=300, validation_data=(x_test, y_test))\n",
        "```\n",
        "\n",
        "**The learning rate was great!** Here is for iterations, epochs 1, 100, 200, and 300, respectively.\n",
        "\n",
        ">Epoch 1/300\n",
        "80/80 [==============================] - 1s 10ms/step - loss: 0.5205 - acc: 0.0000e+00 - val_loss: 0.5417 - val_acc: 0.0000e+00\n",
        "\n",
        ">Epoch 100/300\n",
        "80/80 [==============================] - 0s 237us/step - loss: 0.0651 - acc: 0.0125 - val_loss: 0.0704 - val_acc: 0.0000e+00\n",
        "\n",
        ">Epoch 200/300\n",
        "80/80 [==============================] - 0s 209us/step - loss: 0.0164 - acc: 0.0125 - val_loss: 0.0188 - val_acc: 0.0000e+00\n",
        "\n",
        ">Epoch 300/300\n",
        "80/80 [==============================] - 0s 224us/step - loss: 0.0146 - acc: 0.0125 - val_loss: 0.0164 - val_acc: 0.0000e+00\n",
        "\n",
        "###Notice how the learning rate is great through the first 200 iterations. <font color=\"green\">Δloss = 0.455‬, epoch range 1-200 </font>. However, the same effectiveness does not apply to the last 100. <font color=\"red\"> Δloss = 0.0018‬‬, epoch range 201-300.</font> Thus, we can conclude that <u>the optimal number of epochs should be less than 200</u>.\n",
        "\n",
        "\n",
        "\n"
      ]
    },
    {
      "cell_type": "markdown",
      "metadata": {
        "id": "umQTQVkWB0KY"
      },
      "source": [
        "## 2.6.2 In search for the optimal epoch...\n",
        "\n",
        "We can identify the exact moment the learning rate starts to become stagnant if we analyze <u>the loss trajectory</u> from the **learning rate vs. loss increase plot**.\n",
        "\n",
        "![lossplot.jpg](https://i.postimg.cc/hGtXSdVd/lossplot.jpg)\n",
        "\n",
        "### According to the figure above, 150 would be the optimal epoch to be run in this model.\n",
        "\n"
      ]
    },
    {
      "cell_type": "markdown",
      "metadata": {
        "id": "8FFADRp4HkOn"
      },
      "source": [
        "\n",
        "\n",
        "---\n",
        "\n",
        "# 3. Recap\n",
        "\n",
        "\n",
        "1. Data preparation;\n",
        "2. Normalize it;\n",
        "3. *Train / Test Split* with **scikit-learn**;\n",
        "4. Use **numpy** to check the data structure (shape and number of parameters);\n",
        "5. Fit the data;\n",
        "6. Plot for analysis of effectiveness (learning rate vs. loss increase);\n",
        "7. Increase the number of epochs to find its ideal iteration.\n",
        "\n",
        "\n",
        "\n",
        "\n",
        "## Note:\n",
        "### If the model hasn't learned anything, we didn't normalize it properly... The next section is about the procedures I have taken to ensure we obtain success in setting up this ML project.\n"
      ]
    },
    {
      "cell_type": "markdown",
      "metadata": {
        "id": "Ykrkm9zrH2QO"
      },
      "source": [
        "---\n",
        "---\n",
        "\n",
        "## 3.1 TROUBLESHOOTING:\n",
        "\n",
        "*   Reset all runtime processes;\n",
        "\n",
        "*   Clear all outputs;\n",
        "\n",
        "*   Start over;\n",
        "\n",
        "*   Normalize your data at the beginning! Do not Train /Split it without Normalization, otherwise the gradient will be very high (i.e., inflates the variance and error);\n",
        "\n",
        "* You'll notice your loss is still decreasing, and has not reached a stagnation level (i.e., does not go down any further) >>>> Increase the EPOCH number;\n",
        "\n",
        "* Re-run ;\n",
        "\n",
        "* Repeat these last steps until your loss reaches its stable level;\n",
        "\n",
        "* Check the loss plot again IDENTIFY the EXACT number of EPOCH when it stopped plummeting. \n",
        "\n",
        "<CENTER>\n",
        "    \n",
        "![deep breaths](https://render.bitstrips.com/v2/cpanel/f5fed534-1f42-440c-8b23-1ebe8bfda9de-6e797bc6-7564-4366-8671-8f7b2b27407f-v1.png?transparent=1&palette=1&width=150)\n",
        "\n",
        "\n",
        "## That will be your ideal parameter for running the model again from scratch!\n",
        "    \n",
        "![alt text](https://render.bitstrips.com/v2/cpanel/7652499a-75e7-4a53-b4d2-47726289c68a-6e797bc6-7564-4366-8671-8f7b2b27407f-v1.png?transparent=1&palette=1&width=150)\n",
        "\n",
        "</center>\n",
        "\n",
        "---\n",
        "---\n",
        "\n",
        "## FINAL NOTE:\n",
        "### Although it may sound crazy to reset everything and start over, now that you found your IDEAL EPOCH number for the model, you will avoid OVERFITTING !\n",
        "\n",
        "<CENTER>\n",
        "    \n",
        "![deep breaths](https://render.bitstrips.com/v2/cpanel/ea735ccc-d6b0-4ea8-a360-9c21812a2683-6e797bc6-7564-4366-8671-8f7b2b27407f-v1.png?transparent=1&palette=1&width=150)"
      ]
    },
    {
      "cell_type": "markdown",
      "metadata": {
        "id": "Nn1FRecDJzXe"
      },
      "source": [
        "# 4. Why RNN/LSTM to run StylistA?\n",
        " ![why?](https://render.bitstrips.com/v2/cpanel/f4c91480-fbcf-41d6-8afe-2c9b58d18798-6e797bc6-7564-4366-8671-8f7b2b27407f-v1.png?transparent=1&width=250)\n",
        " \n",
        "## Because...\n",
        "\n",
        "### In *Natural Language*, sentence word order plays an important role in semantics (i.e., the meaning of sentences)!\n",
        "\n",
        "<center>\n",
        "\n",
        "![bitmojr](https://render.bitstrips.com/v2/cpanel/c8c182f8-9573-4964-8a76-cb7e0db89729-6e797bc6-7564-4366-8671-8f7b2b27407f-v1.png?transparent=1&palette=1&width=200)\n",
        "    \n",
        " </center>"
      ]
    },
    {
      "cell_type": "markdown",
      "metadata": {
        "id": "pS0jNsVHL-7u"
      },
      "source": [
        "## 4.1 Another way to set up a RNN/LSTM with TensorFlow\n",
        "###We are using mnist dataset this time for convenience."
      ]
    },
    {
      "cell_type": "code",
      "metadata": {
        "id": "stAnzKAHLmom",
        "colab": {
          "base_uri": "https://localhost:8080/",
          "height": 289
        },
        "outputId": "0b8f71f8-9a2a-4525-c28b-3f2483d1b044"
      },
      "source": [
        "import tensorflow as tf\n",
        "from tensorflow.keras.models import Sequential\n",
        "from tensorflow.keras.layers import Dense, Dropout, LSTM #CuDNNLSTM is an upgraded and faster way, but it NEEDS to be run with a GPU. \n",
        "\n",
        "mnist = tf.keras.datasets.mnist  # mnist is a dataset of 28x28 images of handwritten digits and their labels\n",
        "(x_train2, y_train2),(x_test2, y_test2) = mnist.load_data()  # unpacks images to x_train/x_test and labels to y_train/y_test\n",
        "\n",
        "x_train2 = x_train2/255.0\n",
        "x_test2 = x_test2/255.0\n",
        "\n",
        "print(x_train2.shape)\n",
        "print(x_train2[0].shape)\n",
        "\n",
        "model = Sequential()\n",
        "\n",
        "model.add(LSTM(128, input_shape=(x_train2.shape[1:]), activation='relu', return_sequences=True))\n",
        "model.add(Dropout(0.2))\n",
        "\n",
        "model.add(LSTM(128, activation='relu'))\n",
        "model.add(Dropout(0.2))\n",
        "          \n",
        "model.add(Dense(32, activation='relu'))\n",
        "model.add(Dropout(0.2))      \n",
        "          \n",
        "model.add(Dense(10, activation='softmax'))    \n",
        "          \n",
        "opt = tf.keras.optimizers.Adam(lr=1e-3, decay=1e-5)  #decay reduces the learning rate, so that it takes smaller steps instead of be jumping around\n",
        "\n",
        "model.compile(loss='sparse_categorical_crossentropy', optimizer=opt, metrics=['accuracy'])\n",
        "\n",
        " #mean squared error  MSE is another way of measuring loss\n",
        "\n",
        "model.fit(x_train2, y_train2, epochs=3, validation_data=(x_test2,y_test2))"
      ],
      "execution_count": null,
      "outputs": [
        {
          "output_type": "stream",
          "text": [
            "(60000, 28, 28)\n",
            "(28, 28)\n",
            "WARNING:tensorflow:From /usr/local/lib/python3.6/dist-packages/tensorflow/python/ops/resource_variable_ops.py:435: colocate_with (from tensorflow.python.framework.ops) is deprecated and will be removed in a future version.\n",
            "Instructions for updating:\n",
            "Colocations handled automatically by placer.\n",
            "WARNING:tensorflow:From /usr/local/lib/python3.6/dist-packages/tensorflow/python/keras/layers/core.py:143: calling dropout (from tensorflow.python.ops.nn_ops) with keep_prob is deprecated and will be removed in a future version.\n",
            "Instructions for updating:\n",
            "Please use `rate` instead of `keep_prob`. Rate should be set to `rate = 1 - keep_prob`.\n",
            "Train on 60000 samples, validate on 10000 samples\n",
            "Epoch 1/3\n",
            "60000/60000 [==============================] - 403s 7ms/sample - loss: 0.5939 - acc: 0.8076 - val_loss: 0.1549 - val_acc: 0.9536\n",
            "Epoch 2/3\n",
            "60000/60000 [==============================] - 404s 7ms/sample - loss: 0.1592 - acc: 0.9567 - val_loss: 0.1030 - val_acc: 0.9713\n",
            "Epoch 3/3\n",
            "60000/60000 [==============================] - 403s 7ms/sample - loss: 0.1120 - acc: 0.9699 - val_loss: 0.0723 - val_acc: 0.9800\n"
          ],
          "name": "stdout"
        },
        {
          "output_type": "execute_result",
          "data": {
            "text/plain": [
              "<tensorflow.python.keras.callbacks.History at 0x7fad24a2aa90>"
            ]
          },
          "metadata": {
            "tags": []
          },
          "execution_count": 2
        }
      ]
    },
    {
      "cell_type": "markdown",
      "metadata": {
        "id": "lGASDGKGVZw1"
      },
      "source": [
        "# 5. Another model that will be very useful for StylistA development\n",
        "\n"
      ]
    },
    {
      "cell_type": "markdown",
      "metadata": {
        "id": "HWhMkWp_wZex"
      },
      "source": [
        "https://colab.research.google.com/drive/1MN4crCPQcMnsUAwVawQXgeLEAhfCKwVG"
      ]
    },
    {
      "cell_type": "markdown",
      "metadata": {
        "id": "vszBew-pkLhx"
      },
      "source": [
        "# 6. References (WEBLIOGRAPHY)\n",
        "\n",
        "1. Karpathy, A. (2015). The Unreasonable Effectiveness of Recurrent Neural Networks http://karpathy.github.io/2015/05/21/rnn-effectiveness/ Published on May 21, 2015\n",
        "\n",
        "2. Keras documentation.  https://keras.io/getting-started/sequential-model-guide/#sequence-classification-with-lstm\n",
        "\n",
        "3. Microsoft Support. (2017).**Description of the database normalization basics**. Retrieved May 8, 2019, from https://support.microsoft.com/en-us/help/283878\n",
        " \n",
        "4. Scikit-learn: Machine Learning in Python, Pedregosa et al., JMLR 12, pp. 2825-2830, 2011. http://jmlr.csail.mit.edu/papers/v12/pedregosa11a.html\n",
        " \n",
        "4. The Semicolon. (2018). **Recurrent Neural Networks (LSTM / RNN) Implementation with Keras - Python**  \n",
        "Retrieved April 29, 2019, from https://youtu.be/iMIWee_PXl8\n",
        "\n",
        "5. _________________. (2018). **What are Recurrent Neural Networks (RNN) and Long Short Term Memory Networks (LSTM)?**\n",
        "Retrieved April 29, 2019, from https://youtu.be/iMIWee_PXl8 https://youtu.be/S0XFd0VMFss Published on Jan 30, 2018\n",
        "\n",
        "6. Sentdex. (2018). **Recurrent Neural Networks (RNNs): Deep Learning w/ Python, TensorFlow & Keras [Part 7] .**\n",
        "   Retrieved April 28, 2019, from https://www.youtube.com/watch?v=wQ8BIBpya2k&list=PLQVvvaa0QuDfhTox0AjmQ6tvTgMBZBEXN"
      ]
    }
  ]
}